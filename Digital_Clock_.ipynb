{
  "nbformat": 4,
  "nbformat_minor": 0,
  "metadata": {
    "colab": {
      "provenance": []
    },
    "kernelspec": {
      "name": "python3",
      "display_name": "Python 3"
    },
    "language_info": {
      "name": "python"
    }
  },
  "cells": [
    {
      "cell_type": "markdown",
      "source": [
        "# INTERNPE\n",
        "\n",
        "**TASK** :    \n",
        " 1.Creating a Digital clock using Python."
      ],
      "metadata": {
        "id": "khJZGPrfEi43"
      }
    },
    {
      "cell_type": "code",
      "source": [
        "import tkinter as tk\n",
        "import time\n",
        "from time import strftime\n",
        "\n",
        "# Function to continuously update the time label\n",
        "def update_time():\n",
        "    current_time = strftime(time_format.get())  # Get current time using the selected format\n",
        "    clock_label.config(text=current_time)  # Update the label with the current time\n",
        "    clock_label.after(1000, update_time)  # Schedule the function to run again after 1000ms (1 second)\n",
        "\n",
        "# Function to toggle between 12-hour and 24-hour time formats\n",
        "def change_format():\n",
        "    current_format = time_format.get()\n",
        "    if current_format == \"%H:%M:%S\":\n",
        "        time_format.set(\"%I:%M:%S %p\")  # Switch to 12-hour format with AM/PM\n",
        "    else:\n",
        "        time_format.set(\"%H:%M:%S\")  # Switch to 24-hour format\n",
        "\n",
        "# Create the main window\n",
        "root = tk.Tk()\n",
        "root.title(\"Digital Clock\")\n",
        "root.geometry(\"350x150\")  # Set window dimensions\n",
        "root.configure(bg=\"black\")  # Set background color\n",
        "\n",
        "# Create a variable to store the time format and set default to 24-hour format\n",
        "time_format = tk.StringVar()\n",
        "time_format.set(\"%H:%M:%S\")  # Default: 24-hour format\n",
        "\n",
        "# Create a label to display the time\n",
        "clock_label = tk.Label(root, text=\"\", font=(\"Arial\", 40), fg=\"green\", bg=\"black\")\n",
        "clock_label.pack(pady=20)  # Add padding below the label\n",
        "\n",
        "# Create a button to change the time format\n",
        "format_button = tk.Button(root, text=\"Change Format\", command=change_format)\n",
        "format_button.pack()  # Place the button in the window\n",
        "\n",
        "# Start updating the time label\n",
        "update_time()\n",
        "\n",
        "# Start the GUI event loop\n",
        "root.mainloop()\n"
      ],
      "metadata": {
        "id": "mjbZDYoNE5Kx"
      },
      "execution_count": null,
      "outputs": []
    }
  ]
}